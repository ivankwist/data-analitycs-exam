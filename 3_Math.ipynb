{
 "cells": [
  {
   "cell_type": "markdown",
   "metadata": {},
   "source": [
    "# 3 - Math\n",
    "\n",
    "## Problem\n",
    "\n",
    "“The Pirates law” says that if you have a treasure, the captain must choose a group of pirates and give the same amount of coins to each of them until there’s no more coins available to give all of them exactly the same quantity of coins. So, the coins remaining will go to the captain’s pocket.\n",
    "\n",
    "Morgan (the captain) must split a treasure with less than 1000 golden coins. He knows that if he chose a group of 99 pirates, 51 coins are going to be for him and if he chose 77 pirates, only 29 coins will remain for him.\n",
    "\n",
    "Objective : How many pirates the Captain should select to achieve the maximum number of coins given “The pirate law”? And given the number of pirates, how many coins he will get? \n",
    "\n",
    "Note: Pirates must have at least 1 coin each.\n",
    "\n",
    "Please explain the logic process for the answer and justify it. Charts with explanations will be a nice Plus ;)"
   ]
  },
  {
   "cell_type": "markdown",
   "metadata": {},
   "source": [
    "## Solution\n",
    "\n",
    "The first thing we've got to do is find out the number of coins in the treasure. In order to do that we're going to use the information given on the problem. \n",
    "\n",
    "Mathematically speaking, if we have an X amount of coins (called the dividend) and divide it over a Y amount of pirates (called the divisor) we get a quotient (number of coins for each pirate) and a remainder (number of coins left over, which go to the captain).\n",
    "\n",
    "We now have to find out for which number of coins the following checks out: \"Morgan (the captain) must split a treasure with less than 1000 golden coins. He knows that if he chose a group of 99 pirates, 51 coins are going to be for him and if he chose 77 pirates, only 29 coins will remain for him.\""
   ]
  },
  {
   "cell_type": "code",
   "execution_count": 1,
   "metadata": {},
   "outputs": [],
   "source": [
    "import numpy as np\n",
    "import seaborn as sns; sns.set(); sns.set_style(\"darkgrid\", {\"axes.facecolor\": \".95\"})\n",
    "import matplotlib.pyplot as plt"
   ]
  },
  {
   "cell_type": "code",
   "execution_count": 2,
   "metadata": {},
   "outputs": [
    {
     "name": "stdout",
     "output_type": "stream",
     "text": [
      "The number of coins is 645.\n"
     ]
    }
   ],
   "source": [
    "for treasure_coins in range(1, 1000): # We choose this range because we now the treasure has less than 1000 coins\n",
    "    cond_1 = False # cond_1 will be True if there are 77 pirates and the capitain gets 29 coins\n",
    "    cond_2 = False # cond_2 will be True if there are 99 pirates and the capitain gets 51 coins\n",
    "    for num_pirates in range(1, 1000): # We choose this range because every pirate must get at least one coin\n",
    "        pirates_coins = treasure_coins // num_pirates # Quotient\n",
    "        captain_coins = treasure_coins % num_pirates # Remainder\n",
    "        if pirates_coins > 0:\n",
    "            if (num_pirates==77 and captain_coins==29):\n",
    "                cond_1 = True\n",
    "            if (num_pirates==99 and captain_coins==51):\n",
    "                cond_2 = True\n",
    "    if cond_1 and cond_2:\n",
    "        print(\"The number of coins is %i.\" % treasure_coins)\n",
    "            "
   ]
  },
  {
   "cell_type": "markdown",
   "metadata": {},
   "source": [
    "Now we now just how many coins there are in the treasure. So, the next step is to find out which number of pirates gets the captain the biggest amount of coins.\n",
    "\n",
    "In order to do that we will create an array and populate with the number of coins the captain gets splitting the loot between 1 and 645 pirates. (Again, every pirate must get at least one coin)"
   ]
  },
  {
   "cell_type": "code",
   "execution_count": 3,
   "metadata": {},
   "outputs": [],
   "source": [
    "treasure_coins = 645\n",
    "captain_coins = np.zeros(645)\n",
    "\n",
    "for i in range(1, 646):\n",
    "    captain_coins[i-1] = treasure_coins % i # We substract 1 from i in order to stay within the array bounds   "
   ]
  },
  {
   "cell_type": "markdown",
   "metadata": {},
   "source": [
    "Once we've done that, we will check for the biggest (or maximum) value in said array."
   ]
  },
  {
   "cell_type": "code",
   "execution_count": 4,
   "metadata": {},
   "outputs": [
    {
     "name": "stdout",
     "output_type": "stream",
     "text": [
      "The maximum amount of coins for the captain is 322.\n",
      "He gets that amount by splitting the coins between 323 pirates.\n"
     ]
    }
   ],
   "source": [
    "max_captain_coins = np.amax(captain_coins)\n",
    "print(\"The maximum amount of coins for the captain is %i.\" % max_captain_coins)\n",
    "\n",
    "max_mon_piratas = np.where(captain_coins == max_captain_coins)\n",
    "print(\"He gets that amount by splitting the coins between %i pirates.\" % (max_mon_piratas[0][0]+1))"
   ]
  },
  {
   "cell_type": "markdown",
   "metadata": {},
   "source": [
    "Which checks out. If the captain gives 1 coin each to 323 pirates then 322 coins are left from the treasure, which he gets to keep.\n",
    "\n",
    "Lastly, we can make a graph to see the amount of coins the captain gets depending on the number of pirates."
   ]
  },
  {
   "cell_type": "code",
   "execution_count": 5,
   "metadata": {},
   "outputs": [
    {
     "data": {
      "image/png": "[encoded data removed]",
      "text/plain": [
       "<Figure size 432x288 with 1 Axes>"
      ]
     },
     "metadata": {
      "needs_background": "light"
     },
     "output_type": "display_data"
    }
   ],
   "source": [
    "num_pirates = np.arange(1, 646)\n",
    "sns.lineplot(num_pirates, captain_coins, color=\"indigo\")\n",
    "plt.xlabel('Number of Pirates')\n",
    "plt.ylabel(\"Captain's Coins\")\n",
    "plt.show()"
   ]
  },
  {
   "cell_type": "code",
   "execution_count": null,
   "metadata": {},
   "outputs": [],
   "source": []
  }
 ],
 "metadata": {
  "kernelspec": {
   "display_name": "Python 3",
   "language": "python",
   "name": "python3"
  },
  "language_info": {
   "codemirror_mode": {
    "name": "ipython",
    "version": 3
   },
   "file_extension": ".py",
   "mimetype": "text/x-python",
   "name": "python",
   "nbconvert_exporter": "python",
   "pygments_lexer": "ipython3",
   "version": "3.7.4"
  }
 },
 "nbformat": 4,
 "nbformat_minor": 2
}
