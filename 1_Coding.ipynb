{
 "cells": [
  {
   "cell_type": "markdown",
   "metadata": {},
   "source": [
    "# 1- Coding\n",
    "\n",
    "## Problem\n",
    "\n",
    "Seems like the following function has an error. The function returns random values from a\n",
    "list, given the weights. For example: weighted_random([1, 2, 3], [0.5, 0.3, 0.2]), should return 1\n",
    "with 50% of probabilities, 2 with 30% and 3 with 20%.\n",
    "\n",
    "Objective: Evaluate if there’s any error. If it has it, fix it with the proper explanation."
   ]
  },
  {
   "cell_type": "markdown",
   "metadata": {},
   "source": [
    "## Solution\n",
    "\n",
    "First, before taking a look at the weighted_random function we will build another function to run it a singnificant amount of times and graph the result in a bar plot."
   ]
  },
  {
   "cell_type": "code",
   "execution_count": 1,
   "metadata": {},
   "outputs": [],
   "source": [
    "import random\n",
    "import seaborn as sns; sns.set(); sns.set_style(\"darkgrid\", {\"axes.facecolor\": \".95\"})\n",
    "import matplotlib.pyplot as plt\n",
    "import numpy as np"
   ]
  },
  {
   "cell_type": "code",
   "execution_count": 2,
   "metadata": {},
   "outputs": [],
   "source": [
    "def run_and_graph(func, iterations):\n",
    "    output = np.zeros(iterations)\n",
    "\n",
    "    for i in range(iterations):\n",
    "        output[i] = func([1, 2, 3], [0.5, 0.3, 0.2])\n",
    "\n",
    "    unique, counts = np.unique(output, return_counts=True)\n",
    "    pertentages = counts/iterations\n",
    "    \n",
    "    plt.bar(unique, pertentages, color=\"indigo\")\n",
    "    plt.xticks(unique)\n",
    "    plt.xlabel('Values')\n",
    "    plt.ylabel(\"Percentage\")\n",
    "    plt.show()"
   ]
  },
  {
   "cell_type": "markdown",
   "metadata": {},
   "source": [
    "Once we've done that, we're going to take a look at the function itself and its output."
   ]
  },
  {
   "cell_type": "code",
   "execution_count": 3,
   "metadata": {},
   "outputs": [],
   "source": [
    "def weighted_random(values, weights):\n",
    "    total_weight = sum(weights)\n",
    "    acum_weights = [w / total_weight for w in weights[:]]\n",
    "    for i in range(len(weights)):\n",
    "        acum_weights[i] += acum_weights[i]\n",
    "    rand = random.random()\n",
    "    for value, weight in zip(values, acum_weights):\n",
    "        if weight > rand:\n",
    "            return value"
   ]
  },
  {
   "cell_type": "code",
   "execution_count": 4,
   "metadata": {},
   "outputs": [
    {
     "data": {
      "image/png": "[encoded data removed]",
      "text/plain": [
       "<Figure size 432x288 with 1 Axes>"
      ]
     },
     "metadata": {
      "needs_background": "light"
     },
     "output_type": "display_data"
    }
   ],
   "source": [
    "run_and_graph(weighted_random, 10000)"
   ]
  },
  {
   "cell_type": "markdown",
   "metadata": {},
   "source": [
    "So, after running it a couple of times (10000 times to be exact), we notice that we're getting the same result every time, which means that the output of the function is 1 100% of the times, while it never returns 2 nor 3.\n",
    "\n",
    "Why is that? Well, mainly because of two things:\n",
    "\n",
    "On the first place, by doubling the acum_weights on the first for loop, it's more likely that our randomly generated number will be lesser than the evaluated weight. In order to solve that we can either delete the first for loop altogether or multiply our random number by two. In this case, we're going with the first solution.\n",
    "\n",
    "Secondly, if the random number happens to be greater than all of the weights, the function won't return any value. To fix that, we can substract the evaluated weight from the random number before the end of the loop. That way, we're making sure that the (weight > rand) condition will be true for some value on every run, because the sum of the acum_weights equals the biggest value the random function can return, which is 1.\n",
    "\n",
    "After making those changes, we get the following output:"
   ]
  },
  {
   "cell_type": "code",
   "execution_count": 5,
   "metadata": {},
   "outputs": [],
   "source": [
    "def new_weighted_random(values, weights):\n",
    "    total_weight = sum(weights)\n",
    "    acum_weights = [w / total_weight for w in weights[:]]\n",
    "    \n",
    "    rand = random.random()\n",
    "    for value, weight in zip(values, acum_weights):\n",
    "        if weight > rand:\n",
    "            return value\n",
    "        else:\n",
    "            rand -= weight # Substract the weight from the random number"
   ]
  },
  {
   "cell_type": "code",
   "execution_count": 6,
   "metadata": {},
   "outputs": [
    {
     "data": {
      "image/png": "[encoded data removed]",
      "text/plain": [
       "<Figure size 432x288 with 1 Axes>"
      ]
     },
     "metadata": {
      "needs_background": "light"
     },
     "output_type": "display_data"
    }
   ],
   "source": [
    "run_and_graph(new_weighted_random, 10000)"
   ]
  },
  {
   "cell_type": "markdown",
   "metadata": {},
   "source": [
    "Now we can see the percentage of times each output has been produced by our function, which coincides with the expected output."
   ]
  },
  {
   "cell_type": "code",
   "execution_count": null,
   "metadata": {},
   "outputs": [],
   "source": []
  }
 ],
 "metadata": {
  "kernelspec": {
   "display_name": "Python 3",
   "language": "python",
   "name": "python3"
  },
  "language_info": {
   "codemirror_mode": {
    "name": "ipython",
    "version": 3
   },
   "file_extension": ".py",
   "mimetype": "text/x-python",
   "name": "python",
   "nbconvert_exporter": "python",
   "pygments_lexer": "ipython3",
   "version": "3.7.4"
  }
 },
 "nbformat": 4,
 "nbformat_minor": 2
}
